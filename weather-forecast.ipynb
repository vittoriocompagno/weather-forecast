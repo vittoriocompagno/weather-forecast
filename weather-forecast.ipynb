{
 "cells": [
  {
   "cell_type": "markdown",
   "id": "9a7c3e58-eadc-4ea6-90bd-caa029fe57f5",
   "metadata": {},
   "source": [
    "### Import and Install dependencies"
   ]
  },
  {
   "cell_type": "code",
   "execution_count": 1,
   "id": "b8b498b5-4446-4a54-b076-58734864a39f",
   "metadata": {
    "tags": []
   },
   "outputs": [],
   "source": [
    "import warnings;\n",
    "warnings.simplefilter('ignore')"
   ]
  },
  {
   "cell_type": "code",
   "execution_count": 2,
   "id": "50a68ac6-2e88-452c-a7d0-90299840af51",
   "metadata": {
    "collapsed": true,
    "jupyter": {
     "outputs_hidden": true
    },
    "tags": []
   },
   "outputs": [
    {
     "name": "stdout",
     "output_type": "stream",
     "text": [
      "Requirement already satisfied: prophet in /Users/vittorio/opt/anaconda3/lib/python3.9/site-packages (1.1.2)\n",
      "Requirement already satisfied: numpy>=1.15.4 in /Users/vittorio/opt/anaconda3/lib/python3.9/site-packages (from prophet) (1.21.5)\n",
      "Requirement already satisfied: matplotlib>=2.0.0 in /Users/vittorio/opt/anaconda3/lib/python3.9/site-packages (from prophet) (3.5.2)\n",
      "Requirement already satisfied: tqdm>=4.36.1 in /Users/vittorio/opt/anaconda3/lib/python3.9/site-packages (from prophet) (4.64.1)\n",
      "Requirement already satisfied: holidays>=0.14.2 in /Users/vittorio/opt/anaconda3/lib/python3.9/site-packages (from prophet) (0.21.13)\n",
      "Requirement already satisfied: python-dateutil>=2.8.0 in /Users/vittorio/opt/anaconda3/lib/python3.9/site-packages (from prophet) (2.8.2)\n",
      "Requirement already satisfied: cmdstanpy>=1.0.4 in /Users/vittorio/opt/anaconda3/lib/python3.9/site-packages (from prophet) (1.1.0)\n",
      "Requirement already satisfied: pandas>=1.0.4 in /Users/vittorio/opt/anaconda3/lib/python3.9/site-packages (from prophet) (1.4.4)\n",
      "Requirement already satisfied: LunarCalendar>=0.0.9 in /Users/vittorio/opt/anaconda3/lib/python3.9/site-packages (from prophet) (0.0.9)\n",
      "Requirement already satisfied: convertdate>=2.1.2 in /Users/vittorio/opt/anaconda3/lib/python3.9/site-packages (from prophet) (2.4.0)\n",
      "Requirement already satisfied: pymeeus<=1,>=0.3.13 in /Users/vittorio/opt/anaconda3/lib/python3.9/site-packages (from convertdate>=2.1.2->prophet) (0.5.12)\n",
      "Requirement already satisfied: hijri-converter in /Users/vittorio/opt/anaconda3/lib/python3.9/site-packages (from holidays>=0.14.2->prophet) (2.2.4)\n",
      "Requirement already satisfied: korean-lunar-calendar in /Users/vittorio/opt/anaconda3/lib/python3.9/site-packages (from holidays>=0.14.2->prophet) (0.3.1)\n",
      "Requirement already satisfied: pytz in /Users/vittorio/opt/anaconda3/lib/python3.9/site-packages (from LunarCalendar>=0.0.9->prophet) (2022.1)\n",
      "Requirement already satisfied: ephem>=3.7.5.3 in /Users/vittorio/opt/anaconda3/lib/python3.9/site-packages (from LunarCalendar>=0.0.9->prophet) (4.1.4)\n",
      "Requirement already satisfied: kiwisolver>=1.0.1 in /Users/vittorio/opt/anaconda3/lib/python3.9/site-packages (from matplotlib>=2.0.0->prophet) (1.4.2)\n",
      "Requirement already satisfied: packaging>=20.0 in /Users/vittorio/opt/anaconda3/lib/python3.9/site-packages (from matplotlib>=2.0.0->prophet) (21.3)\n",
      "Requirement already satisfied: pyparsing>=2.2.1 in /Users/vittorio/opt/anaconda3/lib/python3.9/site-packages (from matplotlib>=2.0.0->prophet) (3.0.9)\n",
      "Requirement already satisfied: pillow>=6.2.0 in /Users/vittorio/opt/anaconda3/lib/python3.9/site-packages (from matplotlib>=2.0.0->prophet) (9.2.0)\n",
      "Requirement already satisfied: cycler>=0.10 in /Users/vittorio/opt/anaconda3/lib/python3.9/site-packages (from matplotlib>=2.0.0->prophet) (0.11.0)\n",
      "Requirement already satisfied: fonttools>=4.22.0 in /Users/vittorio/opt/anaconda3/lib/python3.9/site-packages (from matplotlib>=2.0.0->prophet) (4.25.0)\n",
      "Requirement already satisfied: six>=1.5 in /Users/vittorio/opt/anaconda3/lib/python3.9/site-packages (from python-dateutil>=2.8.0->prophet) (1.16.0)\n",
      "Collecting pystan\n",
      "  Using cached pystan-3.6.0-py3-none-any.whl (13 kB)\n",
      "Collecting aiohttp<4.0,>=3.6\n",
      "  Downloading aiohttp-3.8.4-cp39-cp39-macosx_11_0_arm64.whl (338 kB)\n",
      "\u001b[2K     \u001b[90m━━━━━━━━━━━━━━━━━━━━━━━━━━━━━━━━━━━━━━━\u001b[0m \u001b[32m338.3/338.3 kB\u001b[0m \u001b[31m3.6 MB/s\u001b[0m eta \u001b[36m0:00:00\u001b[0m00:01\u001b[0m00:01\u001b[0m\n",
      "\u001b[?25hRequirement already satisfied: numpy<2.0,>=1.19 in /Users/vittorio/opt/anaconda3/lib/python3.9/site-packages (from pystan) (1.21.5)\n",
      "Collecting pysimdjson<6.0.0,>=5.0.2\n",
      "  Downloading pysimdjson-5.0.2-cp39-cp39-macosx_10_9_universal2.whl (338 kB)\n",
      "\u001b[2K     \u001b[90m━━━━━━━━━━━━━━━━━━━━━━━━━━━━━━━━━━━━━━\u001b[0m \u001b[32m338.6/338.6 kB\u001b[0m \u001b[31m23.2 MB/s\u001b[0m eta \u001b[36m0:00:00\u001b[0m\n",
      "\u001b[?25hCollecting clikit<0.7,>=0.6\n",
      "  Using cached clikit-0.6.2-py2.py3-none-any.whl (91 kB)\n",
      "Collecting pystan\n",
      "  Using cached pystan-3.5.0-py3-none-any.whl (13 kB)\n",
      "  Using cached pystan-3.4.0-py3-none-any.whl (13 kB)\n",
      "  Using cached pystan-3.3.0-py3-none-any.whl (13 kB)\n",
      "  Using cached pystan-3.2.0-py3-none-any.whl (13 kB)\n",
      "  Using cached pystan-3.1.1-py3-none-any.whl (13 kB)\n",
      "  Using cached pystan-3.1.0-py3-none-any.whl (13 kB)\n",
      "  Using cached pystan-3.0.2-py3-none-any.whl (13 kB)\n",
      "  Using cached pystan-3.0.1-py3-none-any.whl (12 kB)\n",
      "  Using cached pystan-3.0.0-py3-none-any.whl (12 kB)\n",
      "  Using cached pystan-2.19.1.1.tar.gz (16.2 MB)\n",
      "  Preparing metadata (setup.py) ... \u001b[?25ldone\n",
      "\u001b[?25hRequirement already satisfied: Cython!=0.25.1,>=0.22 in /Users/vittorio/opt/anaconda3/lib/python3.9/site-packages (from pystan) (0.29.32)\n",
      "Building wheels for collected packages: pystan\n",
      "  Building wheel for pystan (setup.py) ... \u001b[?25ldone\n",
      "\u001b[?25h  Created wheel for pystan: filename=pystan-2.19.1.1-cp39-cp39-macosx_13_0_arm64.whl size=29208909 sha256=f53ccd4dafc4c36cef49155865cbdedc765751d1ae1f91f0d8f6afd8967aded4\n",
      "  Stored in directory: /Users/vittorio/Library/Caches/pip/wheels/b8/36/bf/7ec7e363f796373cea3eb9ea94e83f5bbbb586d2edbf7e3417\n",
      "Successfully built pystan\n",
      "Installing collected packages: pystan\n",
      "Successfully installed pystan-2.19.1.1\n"
     ]
    }
   ],
   "source": [
    "!pip install prophet\n",
    "!pip install pystan"
   ]
  },
  {
   "cell_type": "code",
   "execution_count": 3,
   "id": "7789c020-f418-4d72-b8a7-d976703ffef1",
   "metadata": {
    "tags": []
   },
   "outputs": [],
   "source": [
    "import pandas as pd\n",
    "from prophet import Prophet"
   ]
  },
  {
   "cell_type": "markdown",
   "id": "75696136-7efc-4fd8-a187-d883b43ca7b9",
   "metadata": {},
   "source": [
    "### 1. Read Data and Process Dates"
   ]
  },
  {
   "cell_type": "code",
   "execution_count": 4,
   "id": "2f6bac41-15a5-4b81-b2dc-b891ee77fc66",
   "metadata": {
    "tags": []
   },
   "outputs": [],
   "source": [
    "dataset = pd.read_csv('dataset.csv')"
   ]
  },
  {
   "cell_type": "code",
   "execution_count": 5,
   "id": "21bbb01a-e410-4ba6-ac00-53fad958aa05",
   "metadata": {
    "tags": []
   },
   "outputs": [
    {
     "data": {
      "text/html": [
       "<div>\n",
       "<style scoped>\n",
       "    .dataframe tbody tr th:only-of-type {\n",
       "        vertical-align: middle;\n",
       "    }\n",
       "\n",
       "    .dataframe tbody tr th {\n",
       "        vertical-align: top;\n",
       "    }\n",
       "\n",
       "    .dataframe thead th {\n",
       "        text-align: right;\n",
       "    }\n",
       "</style>\n",
       "<table border=\"1\" class=\"dataframe\">\n",
       "  <thead>\n",
       "    <tr style=\"text-align: right;\">\n",
       "      <th></th>\n",
       "      <th>Time Date</th>\n",
       "      <th>Product</th>\n",
       "      <th>Value</th>\n",
       "    </tr>\n",
       "  </thead>\n",
       "  <tbody>\n",
       "    <tr>\n",
       "      <th>count</th>\n",
       "      <td>1.080000e+03</td>\n",
       "      <td>1080.0</td>\n",
       "      <td>1080.000000</td>\n",
       "    </tr>\n",
       "    <tr>\n",
       "      <th>mean</th>\n",
       "      <td>1.567207e+07</td>\n",
       "      <td>2667437.0</td>\n",
       "      <td>4048.117478</td>\n",
       "    </tr>\n",
       "    <tr>\n",
       "      <th>std</th>\n",
       "      <td>8.791548e+06</td>\n",
       "      <td>0.0</td>\n",
       "      <td>1439.945783</td>\n",
       "    </tr>\n",
       "    <tr>\n",
       "      <th>min</th>\n",
       "      <td>1.012018e+06</td>\n",
       "      <td>2667437.0</td>\n",
       "      <td>2042.813500</td>\n",
       "    </tr>\n",
       "    <tr>\n",
       "      <th>25%</th>\n",
       "      <td>8.069518e+06</td>\n",
       "      <td>2667437.0</td>\n",
       "      <td>2632.498599</td>\n",
       "    </tr>\n",
       "    <tr>\n",
       "      <th>50%</th>\n",
       "      <td>1.556702e+07</td>\n",
       "      <td>2667437.0</td>\n",
       "      <td>4256.000000</td>\n",
       "    </tr>\n",
       "    <tr>\n",
       "      <th>75%</th>\n",
       "      <td>2.308452e+07</td>\n",
       "      <td>2667437.0</td>\n",
       "      <td>5288.248910</td>\n",
       "    </tr>\n",
       "    <tr>\n",
       "      <th>max</th>\n",
       "      <td>3.112202e+07</td>\n",
       "      <td>2667437.0</td>\n",
       "      <td>8147.739600</td>\n",
       "    </tr>\n",
       "  </tbody>\n",
       "</table>\n",
       "</div>"
      ],
      "text/plain": [
       "          Time Date    Product        Value\n",
       "count  1.080000e+03     1080.0  1080.000000\n",
       "mean   1.567207e+07  2667437.0  4048.117478\n",
       "std    8.791548e+06        0.0  1439.945783\n",
       "min    1.012018e+06  2667437.0  2042.813500\n",
       "25%    8.069518e+06  2667437.0  2632.498599\n",
       "50%    1.556702e+07  2667437.0  4256.000000\n",
       "75%    2.308452e+07  2667437.0  5288.248910\n",
       "max    3.112202e+07  2667437.0  8147.739600"
      ]
     },
     "execution_count": 5,
     "metadata": {},
     "output_type": "execute_result"
    }
   ],
   "source": [
    "dataset.describe()"
   ]
  },
  {
   "cell_type": "code",
   "execution_count": 6,
   "id": "b4d17f92-d794-4d2e-8992-6b24b431ba84",
   "metadata": {
    "tags": []
   },
   "outputs": [
    {
     "name": "stdout",
     "output_type": "stream",
     "text": [
      "[2667437]\n",
      "['QLD_CW_ST0203']\n"
     ]
    }
   ],
   "source": [
    "## checking the uniqueness of my values\n",
    "print(dataset['Product'].unique())\n",
    "print(dataset['Store'].unique())"
   ]
  },
  {
   "cell_type": "code",
   "execution_count": 7,
   "id": "7b2ab82b-e775-4d4c-9558-a117d9c16285",
   "metadata": {
    "tags": []
   },
   "outputs": [],
   "source": [
    "dataset['Year']= dataset['Time Date'].apply(lambda x:str(x)[-4:])\n",
    "dataset['Month']= dataset['Time Date'].apply(lambda x:str(x)[-6:-4])\n",
    "dataset['Day'] = dataset['Time Date'].apply(lambda x:str(x)[:-6])\n",
    "dataset ['ds'] = pd.DatetimeIndex(dataset['Year']+'-'+dataset['Month']+'-'+dataset['Day'])"
   ]
  },
  {
   "cell_type": "code",
   "execution_count": 8,
   "id": "10444c56-658f-4558-b50e-7f477084c6a2",
   "metadata": {
    "tags": []
   },
   "outputs": [
    {
     "data": {
      "text/html": [
       "<div>\n",
       "<style scoped>\n",
       "    .dataframe tbody tr th:only-of-type {\n",
       "        vertical-align: middle;\n",
       "    }\n",
       "\n",
       "    .dataframe tbody tr th {\n",
       "        vertical-align: top;\n",
       "    }\n",
       "\n",
       "    .dataframe thead th {\n",
       "        text-align: right;\n",
       "    }\n",
       "</style>\n",
       "<table border=\"1\" class=\"dataframe\">\n",
       "  <thead>\n",
       "    <tr style=\"text-align: right;\">\n",
       "      <th></th>\n",
       "      <th>Time Date</th>\n",
       "      <th>Product</th>\n",
       "      <th>Store</th>\n",
       "      <th>Value</th>\n",
       "      <th>Year</th>\n",
       "      <th>Month</th>\n",
       "      <th>Day</th>\n",
       "      <th>ds</th>\n",
       "    </tr>\n",
       "  </thead>\n",
       "  <tbody>\n",
       "    <tr>\n",
       "      <th>0</th>\n",
       "      <td>1012018</td>\n",
       "      <td>2667437</td>\n",
       "      <td>QLD_CW_ST0203</td>\n",
       "      <td>2926.000</td>\n",
       "      <td>2018</td>\n",
       "      <td>01</td>\n",
       "      <td>1</td>\n",
       "      <td>2018-01-01</td>\n",
       "    </tr>\n",
       "    <tr>\n",
       "      <th>1</th>\n",
       "      <td>2012018</td>\n",
       "      <td>2667437</td>\n",
       "      <td>QLD_CW_ST0203</td>\n",
       "      <td>2687.531</td>\n",
       "      <td>2018</td>\n",
       "      <td>01</td>\n",
       "      <td>2</td>\n",
       "      <td>2018-01-02</td>\n",
       "    </tr>\n",
       "    <tr>\n",
       "      <th>2</th>\n",
       "      <td>3012018</td>\n",
       "      <td>2667437</td>\n",
       "      <td>QLD_CW_ST0203</td>\n",
       "      <td>2793.000</td>\n",
       "      <td>2018</td>\n",
       "      <td>01</td>\n",
       "      <td>3</td>\n",
       "      <td>2018-01-03</td>\n",
       "    </tr>\n",
       "    <tr>\n",
       "      <th>3</th>\n",
       "      <td>4012018</td>\n",
       "      <td>2667437</td>\n",
       "      <td>QLD_CW_ST0203</td>\n",
       "      <td>2394.000</td>\n",
       "      <td>2018</td>\n",
       "      <td>01</td>\n",
       "      <td>4</td>\n",
       "      <td>2018-01-04</td>\n",
       "    </tr>\n",
       "    <tr>\n",
       "      <th>4</th>\n",
       "      <td>5012018</td>\n",
       "      <td>2667437</td>\n",
       "      <td>QLD_CW_ST0203</td>\n",
       "      <td>2660.000</td>\n",
       "      <td>2018</td>\n",
       "      <td>01</td>\n",
       "      <td>5</td>\n",
       "      <td>2018-01-05</td>\n",
       "    </tr>\n",
       "  </tbody>\n",
       "</table>\n",
       "</div>"
      ],
      "text/plain": [
       "   Time Date  Product          Store     Value  Year Month Day         ds\n",
       "0    1012018  2667437  QLD_CW_ST0203  2926.000  2018    01   1 2018-01-01\n",
       "1    2012018  2667437  QLD_CW_ST0203  2687.531  2018    01   2 2018-01-02\n",
       "2    3012018  2667437  QLD_CW_ST0203  2793.000  2018    01   3 2018-01-03\n",
       "3    4012018  2667437  QLD_CW_ST0203  2394.000  2018    01   4 2018-01-04\n",
       "4    5012018  2667437  QLD_CW_ST0203  2660.000  2018    01   5 2018-01-05"
      ]
     },
     "execution_count": 8,
     "metadata": {},
     "output_type": "execute_result"
    }
   ],
   "source": [
    "dataset.head()"
   ]
  },
  {
   "cell_type": "code",
   "execution_count": 9,
   "id": "c6a1b146-4282-49b3-ad59-80d4be2ad433",
   "metadata": {
    "tags": []
   },
   "outputs": [],
   "source": [
    "dataset.drop(['Time Date','Product','Store','Year','Month','Day'], axis = 1 ,inplace=True)"
   ]
  },
  {
   "cell_type": "code",
   "execution_count": 10,
   "id": "f3b02681-7391-4638-ba15-e46d517d454e",
   "metadata": {
    "tags": []
   },
   "outputs": [],
   "source": [
    "dataset.columns = ['y','ds']"
   ]
  },
  {
   "cell_type": "code",
   "execution_count": 11,
   "id": "8a6bcb93-6701-4c6a-850e-ffaa3d050298",
   "metadata": {
    "tags": []
   },
   "outputs": [
    {
     "data": {
      "text/html": [
       "<div>\n",
       "<style scoped>\n",
       "    .dataframe tbody tr th:only-of-type {\n",
       "        vertical-align: middle;\n",
       "    }\n",
       "\n",
       "    .dataframe tbody tr th {\n",
       "        vertical-align: top;\n",
       "    }\n",
       "\n",
       "    .dataframe thead th {\n",
       "        text-align: right;\n",
       "    }\n",
       "</style>\n",
       "<table border=\"1\" class=\"dataframe\">\n",
       "  <thead>\n",
       "    <tr style=\"text-align: right;\">\n",
       "      <th></th>\n",
       "      <th>y</th>\n",
       "      <th>ds</th>\n",
       "    </tr>\n",
       "  </thead>\n",
       "  <tbody>\n",
       "    <tr>\n",
       "      <th>0</th>\n",
       "      <td>2926.000</td>\n",
       "      <td>2018-01-01</td>\n",
       "    </tr>\n",
       "    <tr>\n",
       "      <th>1</th>\n",
       "      <td>2687.531</td>\n",
       "      <td>2018-01-02</td>\n",
       "    </tr>\n",
       "    <tr>\n",
       "      <th>2</th>\n",
       "      <td>2793.000</td>\n",
       "      <td>2018-01-03</td>\n",
       "    </tr>\n",
       "    <tr>\n",
       "      <th>3</th>\n",
       "      <td>2394.000</td>\n",
       "      <td>2018-01-04</td>\n",
       "    </tr>\n",
       "    <tr>\n",
       "      <th>4</th>\n",
       "      <td>2660.000</td>\n",
       "      <td>2018-01-05</td>\n",
       "    </tr>\n",
       "  </tbody>\n",
       "</table>\n",
       "</div>"
      ],
      "text/plain": [
       "          y         ds\n",
       "0  2926.000 2018-01-01\n",
       "1  2687.531 2018-01-02\n",
       "2  2793.000 2018-01-03\n",
       "3  2394.000 2018-01-04\n",
       "4  2660.000 2018-01-05"
      ]
     },
     "execution_count": 11,
     "metadata": {},
     "output_type": "execute_result"
    }
   ],
   "source": [
    "dataset.head()"
   ]
  },
  {
   "cell_type": "markdown",
   "id": "2bb5253a-b69e-438d-9651-e4fdc01c6327",
   "metadata": {},
   "source": [
    "### 2. Model Training with Prophet"
   ]
  },
  {
   "cell_type": "code",
   "execution_count": 12,
   "id": "305a23a8-d3a7-4344-a62c-e793100d52cf",
   "metadata": {
    "collapsed": true,
    "jupyter": {
     "outputs_hidden": true
    },
    "tags": []
   },
   "outputs": [
    {
     "name": "stderr",
     "output_type": "stream",
     "text": [
      "10:17:57 - cmdstanpy - INFO - Chain [1] start processing\n",
      "10:17:57 - cmdstanpy - INFO - Chain [1] done processing\n",
      "10:17:57 - cmdstanpy - ERROR - Chain [1] error: terminated by signal 6 Unknown error: -6\n",
      "Optimization terminated abnormally. Falling back to Newton.\n",
      "10:17:57 - cmdstanpy - INFO - Chain [1] start processing\n",
      "10:17:57 - cmdstanpy - INFO - Chain [1] done processing\n",
      "10:17:57 - cmdstanpy - ERROR - Chain [1] error: terminated by signal 6 Unknown error: -6\n"
     ]
    },
    {
     "ename": "RuntimeError",
     "evalue": "Error during optimization! Command '/Users/vittorio/opt/anaconda3/lib/python3.9/site-packages/prophet/stan_model/prophet_model.bin random seed=6544 data file=/var/folders/ds/rbwjh56942l0t4qk3znl00hc0000gn/T/tmpi_uhnpyt/sn9x0vxr.json init=/var/folders/ds/rbwjh56942l0t4qk3znl00hc0000gn/T/tmpi_uhnpyt/a51_1ux3.json output file=/var/folders/ds/rbwjh56942l0t4qk3znl00hc0000gn/T/tmpi_uhnpyt/prophet_model6xfovv53/prophet_model-20230321101757.csv method=optimize algorithm=newton iter=10000' failed: console log output:\n\ndyld[29547]: Library not loaded: @rpath/libtbb.dylib\n  Referenced from: <A9E1C977-97DD-306E-A6E0-69A5F9CD39D6> /Users/vittorio/opt/anaconda3/lib/python3.9/site-packages/prophet/stan_model/prophet_model.bin\n  Reason: tried: '/private/var/folders/ds/rbwjh56942l0t4qk3znl00hc0000gn/T/pip-install-mjvsba5k/prophet_f42666209c824be581a4f29efdc5675f/build/lib.macosx-11.1-arm64-cpython-39/prophet/stan_model/cmdstan-2.26.1/stan/lib/stan_math/lib/tbb/libtbb.dylib' (no such file), '/System/Volumes/Preboot/Cryptexes/OS/private/var/folders/ds/rbwjh56942l0t4qk3znl00hc0000gn/T/pip-install-mjvsba5k/prophet_f42666209c824be581a4f29efdc5675f/build/lib.macosx-11.1-arm64-cpython-39/prophet/stan_model/cmdstan-2.26.1/stan/lib/stan_math/lib/tbb/libtbb.dylib' (no such file), '/private/var/folders/ds/rbwjh56942l0t4qk3znl00hc0000gn/T/pip-install-mjvsba5k/prophet_f42666209c824be581a4f29efdc5675f/build/lib.macosx-11.1-arm64-cpython-39/prophet/stan_model/cmdstan-2.26.1/stan/lib/stan_math/lib/tbb/libtbb.dylib' (no such file), '/System/Volumes/Preboot/Cryptexes/OS/private/var/folders/ds/rbwjh56942l0t4qk3znl00hc0000gn/T/pip-install-mjvsba5k/prophet_f42666209c824be581a4f29efdc5675f/build/lib.macosx-11.1-arm64-cpython-39/prophet/stan_model/cmdstan-2.26.1/stan/lib/stan_math/lib/tbb/libtbb.dylib' (no such file), '/System/Volumes/Preboot/Cryptexes/OS@rpath/libtbb.dylib' (no such file), '/private/var/folders/ds/rbwjh56942l0t4qk3znl00hc0000gn/T/pip-install-mjvsba5k/prophet_f42666209c824be581a4f29efdc5675f/build/lib.macosx-11.1-arm64-cpython-39/prophet/stan_model/cmdstan-2.26.1/stan/lib/stan_math/lib/tbb/libtbb.dylib' (no such file), '/System/Volumes/Preboot/Cryptexes/OS/private/var/folders/ds/rbwjh56942l0t4qk3znl00hc0000gn/T/pip-install-mjvsba5k/prophet_f42666209c824be581a4f29efdc5675f/build/lib.macosx-11.1-arm64-cpython-39/prophet/stan_model/cmdstan-2.26.1/stan/lib/stan_math/lib/tbb/libtbb.dylib' (no such file), '/private/var/folders/ds/rbwjh56942l0t4qk3znl00hc0000gn/T/pip-install-mjvsba5k/prophet_f42666209c824be581a4f29efdc5675f/build/lib.macosx-11.1-arm64-cpython-39/prophet/stan_model/cmdstan-2.26.1/stan/lib/stan_math/lib/tbb/libtbb.dylib' (no such file), '/System/Volumes/Preboot/Cryptexes/OS/private/var/folders/ds/rbwjh56942l0t4qk3znl00hc0000gn/T/pip-install-mjvsba5k/prophet_f42666209c824be581a4f29efdc5675f/build/lib.macosx-11.1-arm64-cpython-39/prophet/stan_model/cmdstan-2.26.1/stan/lib/stan_math/lib/tbb/libtbb.dylib' (no such file), '/usr/local/lib/libtbb.dylib' (no such file), '/usr/lib/libtbb.dylib' (no such file, not in dyld cache)\n",
     "output_type": "error",
     "traceback": [
      "\u001b[0;31m---------------------------------------------------------------------------\u001b[0m",
      "\u001b[0;31mRuntimeError\u001b[0m                              Traceback (most recent call last)",
      "File \u001b[0;32m~/opt/anaconda3/lib/python3.9/site-packages/prophet/models.py:96\u001b[0m, in \u001b[0;36mCmdStanPyBackend.fit\u001b[0;34m(self, stan_init, stan_data, **kwargs)\u001b[0m\n\u001b[1;32m     95\u001b[0m \u001b[38;5;28;01mtry\u001b[39;00m:\n\u001b[0;32m---> 96\u001b[0m     \u001b[38;5;28mself\u001b[39m\u001b[38;5;241m.\u001b[39mstan_fit \u001b[38;5;241m=\u001b[39m \u001b[38;5;28;43mself\u001b[39;49m\u001b[38;5;241;43m.\u001b[39;49m\u001b[43mmodel\u001b[49m\u001b[38;5;241;43m.\u001b[39;49m\u001b[43moptimize\u001b[49m\u001b[43m(\u001b[49m\u001b[38;5;241;43m*\u001b[39;49m\u001b[38;5;241;43m*\u001b[39;49m\u001b[43margs\u001b[49m\u001b[43m)\u001b[49m\n\u001b[1;32m     97\u001b[0m \u001b[38;5;28;01mexcept\u001b[39;00m \u001b[38;5;167;01mRuntimeError\u001b[39;00m \u001b[38;5;28;01mas\u001b[39;00m e:\n\u001b[1;32m     98\u001b[0m     \u001b[38;5;66;03m# Fall back on Newton\u001b[39;00m\n",
      "File \u001b[0;32m~/opt/anaconda3/lib/python3.9/site-packages/cmdstanpy/model.py:738\u001b[0m, in \u001b[0;36mCmdStanModel.optimize\u001b[0;34m(self, data, seed, inits, output_dir, sig_figs, save_profile, algorithm, init_alpha, tol_obj, tol_rel_obj, tol_grad, tol_rel_grad, tol_param, history_size, iter, save_iterations, require_converged, show_console, refresh, time_fmt, timeout)\u001b[0m\n\u001b[1;32m    737\u001b[0m     \u001b[38;5;28;01melse\u001b[39;00m:\n\u001b[0;32m--> 738\u001b[0m         \u001b[38;5;28;01mraise\u001b[39;00m \u001b[38;5;167;01mRuntimeError\u001b[39;00m(msg)\n\u001b[1;32m    739\u001b[0m mle \u001b[38;5;241m=\u001b[39m CmdStanMLE(runset)\n",
      "\u001b[0;31mRuntimeError\u001b[0m: Error during optimization! Command '/Users/vittorio/opt/anaconda3/lib/python3.9/site-packages/prophet/stan_model/prophet_model.bin random seed=4569 data file=/var/folders/ds/rbwjh56942l0t4qk3znl00hc0000gn/T/tmpi_uhnpyt/cy3zzq7j.json init=/var/folders/ds/rbwjh56942l0t4qk3znl00hc0000gn/T/tmpi_uhnpyt/hyj5p412.json output file=/var/folders/ds/rbwjh56942l0t4qk3znl00hc0000gn/T/tmpi_uhnpyt/prophet_model7izmg9ch/prophet_model-20230321101757.csv method=optimize algorithm=lbfgs iter=10000' failed: console log output:\n\ndyld[29546]: Library not loaded: @rpath/libtbb.dylib\n  Referenced from: <A9E1C977-97DD-306E-A6E0-69A5F9CD39D6> /Users/vittorio/opt/anaconda3/lib/python3.9/site-packages/prophet/stan_model/prophet_model.bin\n  Reason: tried: '/private/var/folders/ds/rbwjh56942l0t4qk3znl00hc0000gn/T/pip-install-mjvsba5k/prophet_f42666209c824be581a4f29efdc5675f/build/lib.macosx-11.1-arm64-cpython-39/prophet/stan_model/cmdstan-2.26.1/stan/lib/stan_math/lib/tbb/libtbb.dylib' (no such file), '/System/Volumes/Preboot/Cryptexes/OS/private/var/folders/ds/rbwjh56942l0t4qk3znl00hc0000gn/T/pip-install-mjvsba5k/prophet_f42666209c824be581a4f29efdc5675f/build/lib.macosx-11.1-arm64-cpython-39/prophet/stan_model/cmdstan-2.26.1/stan/lib/stan_math/lib/tbb/libtbb.dylib' (no such file), '/private/var/folders/ds/rbwjh56942l0t4qk3znl00hc0000gn/T/pip-install-mjvsba5k/prophet_f42666209c824be581a4f29efdc5675f/build/lib.macosx-11.1-arm64-cpython-39/prophet/stan_model/cmdstan-2.26.1/stan/lib/stan_math/lib/tbb/libtbb.dylib' (no such file), '/System/Volumes/Preboot/Cryptexes/OS/private/var/folders/ds/rbwjh56942l0t4qk3znl00hc0000gn/T/pip-install-mjvsba5k/prophet_f42666209c824be581a4f29efdc5675f/build/lib.macosx-11.1-arm64-cpython-39/prophet/stan_model/cmdstan-2.26.1/stan/lib/stan_math/lib/tbb/libtbb.dylib' (no such file), '/System/Volumes/Preboot/Cryptexes/OS@rpath/libtbb.dylib' (no such file), '/private/var/folders/ds/rbwjh56942l0t4qk3znl00hc0000gn/T/pip-install-mjvsba5k/prophet_f42666209c824be581a4f29efdc5675f/build/lib.macosx-11.1-arm64-cpython-39/prophet/stan_model/cmdstan-2.26.1/stan/lib/stan_math/lib/tbb/libtbb.dylib' (no such file), '/System/Volumes/Preboot/Cryptexes/OS/private/var/folders/ds/rbwjh56942l0t4qk3znl00hc0000gn/T/pip-install-mjvsba5k/prophet_f42666209c824be581a4f29efdc5675f/build/lib.macosx-11.1-arm64-cpython-39/prophet/stan_model/cmdstan-2.26.1/stan/lib/stan_math/lib/tbb/libtbb.dylib' (no such file), '/private/var/folders/ds/rbwjh56942l0t4qk3znl00hc0000gn/T/pip-install-mjvsba5k/prophet_f42666209c824be581a4f29efdc5675f/build/lib.macosx-11.1-arm64-cpython-39/prophet/stan_model/cmdstan-2.26.1/stan/lib/stan_math/lib/tbb/libtbb.dylib' (no such file), '/System/Volumes/Preboot/Cryptexes/OS/private/var/folders/ds/rbwjh56942l0t4qk3znl00hc0000gn/T/pip-install-mjvsba5k/prophet_f42666209c824be581a4f29efdc5675f/build/lib.macosx-11.1-arm64-cpython-39/prophet/stan_model/cmdstan-2.26.1/stan/lib/stan_math/lib/tbb/libtbb.dylib' (no such file), '/usr/local/lib/libtbb.dylib' (no such file), '/usr/lib/libtbb.dylib' (no such file, not in dyld cache)\n",
      "\nDuring handling of the above exception, another exception occurred:\n",
      "\u001b[0;31mRuntimeError\u001b[0m                              Traceback (most recent call last)",
      "Input \u001b[0;32mIn [12]\u001b[0m, in \u001b[0;36m<cell line: 2>\u001b[0;34m()\u001b[0m\n\u001b[1;32m      1\u001b[0m m \u001b[38;5;241m=\u001b[39m Prophet(interval_width\u001b[38;5;241m=\u001b[39m \u001b[38;5;241m0.95\u001b[39m, daily_seasonality \u001b[38;5;241m=\u001b[39m \u001b[38;5;28;01mTrue\u001b[39;00m)\n\u001b[0;32m----> 2\u001b[0m model \u001b[38;5;241m=\u001b[39m \u001b[43mm\u001b[49m\u001b[38;5;241;43m.\u001b[39;49m\u001b[43mfit\u001b[49m\u001b[43m(\u001b[49m\u001b[43mdataset\u001b[49m\u001b[43m)\u001b[49m\n",
      "File \u001b[0;32m~/opt/anaconda3/lib/python3.9/site-packages/prophet/forecaster.py:1181\u001b[0m, in \u001b[0;36mProphet.fit\u001b[0;34m(self, df, **kwargs)\u001b[0m\n\u001b[1;32m   1179\u001b[0m     \u001b[38;5;28mself\u001b[39m\u001b[38;5;241m.\u001b[39mparams \u001b[38;5;241m=\u001b[39m \u001b[38;5;28mself\u001b[39m\u001b[38;5;241m.\u001b[39mstan_backend\u001b[38;5;241m.\u001b[39msampling(stan_init, dat, \u001b[38;5;28mself\u001b[39m\u001b[38;5;241m.\u001b[39mmcmc_samples, \u001b[38;5;241m*\u001b[39m\u001b[38;5;241m*\u001b[39mkwargs)\n\u001b[1;32m   1180\u001b[0m \u001b[38;5;28;01melse\u001b[39;00m:\n\u001b[0;32m-> 1181\u001b[0m     \u001b[38;5;28mself\u001b[39m\u001b[38;5;241m.\u001b[39mparams \u001b[38;5;241m=\u001b[39m \u001b[38;5;28;43mself\u001b[39;49m\u001b[38;5;241;43m.\u001b[39;49m\u001b[43mstan_backend\u001b[49m\u001b[38;5;241;43m.\u001b[39;49m\u001b[43mfit\u001b[49m\u001b[43m(\u001b[49m\u001b[43mstan_init\u001b[49m\u001b[43m,\u001b[49m\u001b[43m \u001b[49m\u001b[43mdat\u001b[49m\u001b[43m,\u001b[49m\u001b[43m \u001b[49m\u001b[38;5;241;43m*\u001b[39;49m\u001b[38;5;241;43m*\u001b[39;49m\u001b[43mkwargs\u001b[49m\u001b[43m)\u001b[49m\n\u001b[1;32m   1183\u001b[0m \u001b[38;5;28mself\u001b[39m\u001b[38;5;241m.\u001b[39mstan_fit \u001b[38;5;241m=\u001b[39m \u001b[38;5;28mself\u001b[39m\u001b[38;5;241m.\u001b[39mstan_backend\u001b[38;5;241m.\u001b[39mstan_fit\n\u001b[1;32m   1184\u001b[0m \u001b[38;5;66;03m# If no changepoints were requested, replace delta with 0s\u001b[39;00m\n",
      "File \u001b[0;32m~/opt/anaconda3/lib/python3.9/site-packages/prophet/models.py:103\u001b[0m, in \u001b[0;36mCmdStanPyBackend.fit\u001b[0;34m(self, stan_init, stan_data, **kwargs)\u001b[0m\n\u001b[1;32m    101\u001b[0m     logger\u001b[38;5;241m.\u001b[39mwarning(\u001b[38;5;124m'\u001b[39m\u001b[38;5;124mOptimization terminated abnormally. Falling back to Newton.\u001b[39m\u001b[38;5;124m'\u001b[39m)\n\u001b[1;32m    102\u001b[0m     args[\u001b[38;5;124m'\u001b[39m\u001b[38;5;124malgorithm\u001b[39m\u001b[38;5;124m'\u001b[39m] \u001b[38;5;241m=\u001b[39m \u001b[38;5;124m'\u001b[39m\u001b[38;5;124mNewton\u001b[39m\u001b[38;5;124m'\u001b[39m\n\u001b[0;32m--> 103\u001b[0m     \u001b[38;5;28mself\u001b[39m\u001b[38;5;241m.\u001b[39mstan_fit \u001b[38;5;241m=\u001b[39m \u001b[38;5;28;43mself\u001b[39;49m\u001b[38;5;241;43m.\u001b[39;49m\u001b[43mmodel\u001b[49m\u001b[38;5;241;43m.\u001b[39;49m\u001b[43moptimize\u001b[49m\u001b[43m(\u001b[49m\u001b[38;5;241;43m*\u001b[39;49m\u001b[38;5;241;43m*\u001b[39;49m\u001b[43margs\u001b[49m\u001b[43m)\u001b[49m\n\u001b[1;32m    104\u001b[0m params \u001b[38;5;241m=\u001b[39m \u001b[38;5;28mself\u001b[39m\u001b[38;5;241m.\u001b[39mstan_to_dict_numpy(\n\u001b[1;32m    105\u001b[0m     \u001b[38;5;28mself\u001b[39m\u001b[38;5;241m.\u001b[39mstan_fit\u001b[38;5;241m.\u001b[39mcolumn_names, \u001b[38;5;28mself\u001b[39m\u001b[38;5;241m.\u001b[39mstan_fit\u001b[38;5;241m.\u001b[39moptimized_params_np)\n\u001b[1;32m    106\u001b[0m \u001b[38;5;28;01mfor\u001b[39;00m par \u001b[38;5;129;01min\u001b[39;00m params:\n",
      "File \u001b[0;32m~/opt/anaconda3/lib/python3.9/site-packages/cmdstanpy/model.py:738\u001b[0m, in \u001b[0;36mCmdStanModel.optimize\u001b[0;34m(self, data, seed, inits, output_dir, sig_figs, save_profile, algorithm, init_alpha, tol_obj, tol_rel_obj, tol_grad, tol_rel_grad, tol_param, history_size, iter, save_iterations, require_converged, show_console, refresh, time_fmt, timeout)\u001b[0m\n\u001b[1;32m    736\u001b[0m         get_logger()\u001b[38;5;241m.\u001b[39mwarning(msg)\n\u001b[1;32m    737\u001b[0m     \u001b[38;5;28;01melse\u001b[39;00m:\n\u001b[0;32m--> 738\u001b[0m         \u001b[38;5;28;01mraise\u001b[39;00m \u001b[38;5;167;01mRuntimeError\u001b[39;00m(msg)\n\u001b[1;32m    739\u001b[0m mle \u001b[38;5;241m=\u001b[39m CmdStanMLE(runset)\n\u001b[1;32m    740\u001b[0m \u001b[38;5;28;01mreturn\u001b[39;00m mle\n",
      "\u001b[0;31mRuntimeError\u001b[0m: Error during optimization! Command '/Users/vittorio/opt/anaconda3/lib/python3.9/site-packages/prophet/stan_model/prophet_model.bin random seed=6544 data file=/var/folders/ds/rbwjh56942l0t4qk3znl00hc0000gn/T/tmpi_uhnpyt/sn9x0vxr.json init=/var/folders/ds/rbwjh56942l0t4qk3znl00hc0000gn/T/tmpi_uhnpyt/a51_1ux3.json output file=/var/folders/ds/rbwjh56942l0t4qk3znl00hc0000gn/T/tmpi_uhnpyt/prophet_model6xfovv53/prophet_model-20230321101757.csv method=optimize algorithm=newton iter=10000' failed: console log output:\n\ndyld[29547]: Library not loaded: @rpath/libtbb.dylib\n  Referenced from: <A9E1C977-97DD-306E-A6E0-69A5F9CD39D6> /Users/vittorio/opt/anaconda3/lib/python3.9/site-packages/prophet/stan_model/prophet_model.bin\n  Reason: tried: '/private/var/folders/ds/rbwjh56942l0t4qk3znl00hc0000gn/T/pip-install-mjvsba5k/prophet_f42666209c824be581a4f29efdc5675f/build/lib.macosx-11.1-arm64-cpython-39/prophet/stan_model/cmdstan-2.26.1/stan/lib/stan_math/lib/tbb/libtbb.dylib' (no such file), '/System/Volumes/Preboot/Cryptexes/OS/private/var/folders/ds/rbwjh56942l0t4qk3znl00hc0000gn/T/pip-install-mjvsba5k/prophet_f42666209c824be581a4f29efdc5675f/build/lib.macosx-11.1-arm64-cpython-39/prophet/stan_model/cmdstan-2.26.1/stan/lib/stan_math/lib/tbb/libtbb.dylib' (no such file), '/private/var/folders/ds/rbwjh56942l0t4qk3znl00hc0000gn/T/pip-install-mjvsba5k/prophet_f42666209c824be581a4f29efdc5675f/build/lib.macosx-11.1-arm64-cpython-39/prophet/stan_model/cmdstan-2.26.1/stan/lib/stan_math/lib/tbb/libtbb.dylib' (no such file), '/System/Volumes/Preboot/Cryptexes/OS/private/var/folders/ds/rbwjh56942l0t4qk3znl00hc0000gn/T/pip-install-mjvsba5k/prophet_f42666209c824be581a4f29efdc5675f/build/lib.macosx-11.1-arm64-cpython-39/prophet/stan_model/cmdstan-2.26.1/stan/lib/stan_math/lib/tbb/libtbb.dylib' (no such file), '/System/Volumes/Preboot/Cryptexes/OS@rpath/libtbb.dylib' (no such file), '/private/var/folders/ds/rbwjh56942l0t4qk3znl00hc0000gn/T/pip-install-mjvsba5k/prophet_f42666209c824be581a4f29efdc5675f/build/lib.macosx-11.1-arm64-cpython-39/prophet/stan_model/cmdstan-2.26.1/stan/lib/stan_math/lib/tbb/libtbb.dylib' (no such file), '/System/Volumes/Preboot/Cryptexes/OS/private/var/folders/ds/rbwjh56942l0t4qk3znl00hc0000gn/T/pip-install-mjvsba5k/prophet_f42666209c824be581a4f29efdc5675f/build/lib.macosx-11.1-arm64-cpython-39/prophet/stan_model/cmdstan-2.26.1/stan/lib/stan_math/lib/tbb/libtbb.dylib' (no such file), '/private/var/folders/ds/rbwjh56942l0t4qk3znl00hc0000gn/T/pip-install-mjvsba5k/prophet_f42666209c824be581a4f29efdc5675f/build/lib.macosx-11.1-arm64-cpython-39/prophet/stan_model/cmdstan-2.26.1/stan/lib/stan_math/lib/tbb/libtbb.dylib' (no such file), '/System/Volumes/Preboot/Cryptexes/OS/private/var/folders/ds/rbwjh56942l0t4qk3znl00hc0000gn/T/pip-install-mjvsba5k/prophet_f42666209c824be581a4f29efdc5675f/build/lib.macosx-11.1-arm64-cpython-39/prophet/stan_model/cmdstan-2.26.1/stan/lib/stan_math/lib/tbb/libtbb.dylib' (no such file), '/usr/local/lib/libtbb.dylib' (no such file), '/usr/lib/libtbb.dylib' (no such file, not in dyld cache)\n"
     ]
    }
   ],
   "source": [
    "m = Prophet(interval_width= 0.95, daily_seasonality = True)\n",
    "model = m.fit(dataset)"
   ]
  },
  {
   "cell_type": "code",
   "execution_count": null,
   "id": "a5e59c35-2278-44d0-912c-b45403f0c3aa",
   "metadata": {
    "tags": []
   },
   "outputs": [],
   "source": [
    "future = m.make_future_dataframe(periods= 100, freq = 'D')\n",
    "forecast = m.predict (future)\n",
    "forecast.head()"
   ]
  },
  {
   "cell_type": "code",
   "execution_count": 1,
   "id": "79ff6e40-6add-48fa-9d27-fee7c88182d7",
   "metadata": {
    "tags": []
   },
   "outputs": [
    {
     "ename": "NameError",
     "evalue": "name 'm' is not defined",
     "output_type": "error",
     "traceback": [
      "\u001b[0;31m---------------------------------------------------------------------------\u001b[0m",
      "\u001b[0;31mNameError\u001b[0m                                 Traceback (most recent call last)",
      "Cell \u001b[0;32mIn[1], line 1\u001b[0m\n\u001b[0;32m----> 1\u001b[0m plot1 \u001b[38;5;241m=\u001b[39m \u001b[43mm\u001b[49m\u001b[38;5;241m.\u001b[39mplot(forecast)\n",
      "\u001b[0;31mNameError\u001b[0m: name 'm' is not defined"
     ]
    }
   ],
   "source": [
    "plot1 = m.plot(forecast)\n"
   ]
  },
  {
   "cell_type": "code",
   "execution_count": null,
   "id": "125eb73e-2c84-4ee8-a528-040d36ebf0b0",
   "metadata": {},
   "outputs": [],
   "source": []
  }
 ],
 "metadata": {
  "kernelspec": {
   "display_name": "Python 3 (ipykernel)",
   "language": "python",
   "name": "python3"
  },
  "language_info": {
   "codemirror_mode": {
    "name": "ipython",
    "version": 3
   },
   "file_extension": ".py",
   "mimetype": "text/x-python",
   "name": "python",
   "nbconvert_exporter": "python",
   "pygments_lexer": "ipython3",
   "version": "3.9.13"
  }
 },
 "nbformat": 4,
 "nbformat_minor": 5
}
